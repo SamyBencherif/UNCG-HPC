{
 "cells": [
  {
   "cell_type": "code",
   "execution_count": null,
   "metadata": {},
   "outputs": [],
   "source": [
    "FOS = open('FieldsOfStudy.txt', 'r+t')\n",
    "\n",
    "maintypes = []\n",
    "maintypestrunc = []\n",
    "\n",
    "for line in FOS.readlines():\n",
    "    mt = line.split('\\t')[3]\n",
    "    if not mt in maintypes:\n",
    "        maintypes.append(mt)\n",
    "    if not mt.split('.')[0] in maintypestrunc:\n",
    "        maintypestrunc.append(mt.split('.')[0])\n",
    "        \n",
    "FOS.close()"
   ]
  },
  {
   "cell_type": "code",
   "execution_count": null,
   "metadata": {},
   "outputs": [],
   "source": []
  }
 ],
 "metadata": {
  "kernelspec": {
   "display_name": "Python 3",
   "language": "python",
   "name": "python3"
  },
  "language_info": {
   "codemirror_mode": {
    "name": "ipython",
    "version": 3
   },
   "file_extension": ".py",
   "mimetype": "text/x-python",
   "name": "python",
   "nbconvert_exporter": "python",
   "pygments_lexer": "ipython3",
   "version": "3.6.2"
  }
 },
 "nbformat": 4,
 "nbformat_minor": 2
}
