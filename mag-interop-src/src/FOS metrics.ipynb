{
 "cells": [
  {
   "cell_type": "code",
   "execution_count": 1,
   "metadata": {},
   "outputs": [],
   "source": [
    "FOS = open('../data/FieldsOfStudy.txt', 'r+t')\n",
    "\n",
    "maintypes = set()\n",
    "\n",
    "line = FOS.readline()\n",
    "\n",
    "while line:\n",
    "    mt = line.split('\\t')[4]\n",
    "    maintypes.add(mt.split('.')[0])\n",
    "    line = FOS.readline()\n",
    "        \n",
    "FOS.close()"
   ]
  },
  {
   "cell_type": "code",
   "execution_count": 2,
   "metadata": {},
   "outputs": [
    {
     "name": "stdout",
     "output_type": "stream",
     "text": [
      "/Volumes/Media/UNCG-Research/Mag-Project/mag-interop-src/src\n"
     ]
    }
   ],
   "source": [
    "import os\n",
    "print (os.getcwd())"
   ]
  },
  {
   "cell_type": "code",
   "execution_count": 3,
   "metadata": {},
   "outputs": [],
   "source": [
    "maintypes = sorted(maintypes)\n",
    "maintypes[0] = \"UNCATEGORIZED\"\n",
    "gfos = '\\n'.join([x for x in maintypes if x])"
   ]
  },
  {
   "cell_type": "code",
   "execution_count": 4,
   "metadata": {},
   "outputs": [
    {
     "name": "stdout",
     "output_type": "stream",
     "text": [
      "UNCATEGORIZED\n",
      "american_football\n",
      "amusement_parks\n",
      "architecture\n",
      "astronomy\n",
      "automotive\n",
      "aviation\n",
      "award\n",
      "baseball\n",
      "biology\n",
      "boats\n",
      "book\n",
      "broadcast\n",
      "business\n",
      "chemistry\n",
      "comic_books\n",
      "comic_strips\n",
      "commerce\n",
      "common\n",
      "computer\n",
      "conferences\n",
      "cricket\n",
      "cvg\n",
      "distilled_spirits\n",
      "education\n",
      "engineering\n",
      "event\n",
      "exhibitions\n",
      "fashion\n",
      "fictional_universe\n",
      "film\n",
      "finance\n",
      "food\n",
      "games\n",
      "geography\n",
      "geology\n",
      "government\n",
      "interests\n",
      "internet\n",
      "language\n",
      "law\n",
      "local\n",
      "location\n",
      "measurement_unit\n",
      "media_common\n",
      "medicine\n",
      "meteorology\n",
      "metropolitan_transit\n",
      "military\n",
      "music\n",
      "olympics\n",
      "organization\n",
      "people\n",
      "physics\n",
      "projects\n",
      "protected_sites\n",
      "radio\n",
      "religion\n",
      "royalty\n",
      "soccer\n",
      "spaceflight\n",
      "sports\n",
      "statistics\n",
      "symbols\n",
      "theater\n",
      "time\n",
      "transportation\n",
      "travel\n",
      "tv\n",
      "ved/biology\n",
      "venture_capital\n",
      "visual_art\n"
     ]
    }
   ],
   "source": [
    "print(gfos)"
   ]
  },
  {
   "cell_type": "code",
   "execution_count": 5,
   "metadata": {},
   "outputs": [
    {
     "name": "stdout",
     "output_type": "stream",
     "text": [
      "\"../data/extended\" already exists. Proceeding to write file.\n"
     ]
    },
    {
     "data": {
      "text/plain": [
       "706"
      ]
     },
     "execution_count": 5,
     "metadata": {},
     "output_type": "execute_result"
    }
   ],
   "source": [
    "import os\n",
    "try:\n",
    "    os.mkdir('../data/extended/')\n",
    "except FileExistsError:\n",
    "    print('\"../data/extended\" already exists. Proceeding to write file.')\n",
    "    \n",
    "open('../data/extended/GeneralFOS.txt', 'w').write(gfos)"
   ]
  },
  {
   "cell_type": "code",
   "execution_count": 8,
   "metadata": {},
   "outputs": [
    {
     "data": {
      "text/plain": [
       "'food'"
      ]
     },
     "execution_count": 8,
     "metadata": {},
     "output_type": "execute_result"
    }
   ],
   "source": [
    "import random\n",
    "random.choice(maintypes)"
   ]
  },
  {
   "cell_type": "code",
   "execution_count": null,
   "metadata": {},
   "outputs": [],
   "source": []
  }
 ],
 "metadata": {
  "kernelspec": {
   "display_name": "Python 3",
   "language": "python",
   "name": "python3"
  },
  "language_info": {
   "codemirror_mode": {
    "name": "ipython",
    "version": 3
   },
   "file_extension": ".py",
   "mimetype": "text/x-python",
   "name": "python",
   "nbconvert_exporter": "python",
   "pygments_lexer": "ipython3",
   "version": "3.6.2"
  }
 },
 "nbformat": 4,
 "nbformat_minor": 2
}
